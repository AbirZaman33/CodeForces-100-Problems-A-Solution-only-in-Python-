{
 "cells": [
  {
   "cell_type": "markdown",
   "metadata": {},
   "source": [
    "# String Task"
   ]
  },
  {
   "cell_type": "code",
   "execution_count": 10,
   "metadata": {},
   "outputs": [
    {
     "name": "stdout",
     "output_type": "stream",
     "text": [
      "ABIR\n",
      ".b.r\n"
     ]
    }
   ],
   "source": [
    "st=str(input())\n",
    "\n",
    "st=st.lower()\n",
    "\n",
    "space=\"\"\n",
    "\n",
    "vow=['a','e','i','u','o','y']\n",
    "\n",
    "for i in range(0,len(st)):\n",
    "    if st[i] not in vow:\n",
    "        space=space+'.'\n",
    "        space=space+st[i]\n",
    "        \n",
    "print(space)"
   ]
  }
 ],
 "metadata": {
  "kernelspec": {
   "display_name": "Python 3",
   "language": "python",
   "name": "python3"
  },
  "language_info": {
   "codemirror_mode": {
    "name": "ipython",
    "version": 3
   },
   "file_extension": ".py",
   "mimetype": "text/x-python",
   "name": "python",
   "nbconvert_exporter": "python",
   "pygments_lexer": "ipython3",
   "version": "3.7.6"
  }
 },
 "nbformat": 4,
 "nbformat_minor": 4
}
