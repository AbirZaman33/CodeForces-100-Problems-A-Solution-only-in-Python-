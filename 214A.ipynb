{
 "cells": [
  {
   "cell_type": "code",
   "execution_count": 8,
   "metadata": {},
   "outputs": [
    {
     "name": "stdout",
     "output_type": "stream",
     "text": [
      "9 3\n",
      "\n",
      "0\n"
     ]
    }
   ],
   "source": [
    "\n",
    "\n",
    "n=input()\n",
    "m=input()\n",
    "\n",
    "\n",
    "count=0\n",
    "\n",
    "for i in range (0,1000):\n",
    "    for j in range (0,1000):\n",
    "        if (i*i+j==n and i+j*j==m ):\n",
    "            count=count+1\n",
    "    \n",
    "            \n",
    "print(count)"
   ]
  }
 ],
 "metadata": {
  "kernelspec": {
   "display_name": "Python 3",
   "language": "python",
   "name": "python3"
  },
  "language_info": {
   "codemirror_mode": {
    "name": "ipython",
    "version": 3
   },
   "file_extension": ".py",
   "mimetype": "text/x-python",
   "name": "python",
   "nbconvert_exporter": "python",
   "pygments_lexer": "ipython3",
   "version": "3.7.6"
  }
 },
 "nbformat": 4,
 "nbformat_minor": 4
}
