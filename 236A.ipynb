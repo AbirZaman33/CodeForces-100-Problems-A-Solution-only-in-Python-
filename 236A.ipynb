{
 "cells": [
  {
   "cell_type": "code",
   "execution_count": 9,
   "metadata": {},
   "outputs": [
    {
     "name": "stdout",
     "output_type": "stream",
     "text": [
      "asdfgh\n",
      "CHAT WITH HER\n"
     ]
    }
   ],
   "source": [
    "username = input()\n",
    "length=len(username)\n",
    "username=list(username)\n",
    "\n",
    "number_distinct=0\n",
    "count=0\n",
    "stored=[]\n",
    "\n",
    "for i in username:\n",
    "    if username.count(i)>1:\n",
    "        if i in stored:\n",
    "            pass\n",
    "        else:\n",
    "            number_distinct-=1\n",
    "            stored.append(i)\n",
    "    elif username.count(i)<=1:\n",
    "        number_distinct+=1\n",
    "\n",
    "if number_distinct%2==0:\n",
    "    print(\"CHAT WITH HER\")\n",
    "else:\n",
    "    print(\"IGNORE HIM!\")"
   ]
  },
  {
   "cell_type": "code",
   "execution_count": 4,
   "metadata": {},
   "outputs": [
    {
     "name": "stdout",
     "output_type": "stream",
     "text": [
      "asdfga\n",
      "IGNORE HIM!\n"
     ]
    }
   ],
   "source": [
    "word=input()\n",
    "my_list=[]\n",
    "\n",
    "for i in word:\n",
    "    if i not in my_list:\n",
    "        my_list.append(i)\n",
    "    else:\n",
    "        continue\n",
    "\n",
    "if len(my_list)%2==0:\n",
    "    print(\"CHAT WITH HER!\")\n",
    "else:\n",
    "    print(\"IGNORE HIM!\")"
   ]
  }
 ],
 "metadata": {
  "kernelspec": {
   "display_name": "Python 3",
   "language": "python",
   "name": "python3"
  },
  "language_info": {
   "codemirror_mode": {
    "name": "ipython",
    "version": 3
   },
   "file_extension": ".py",
   "mimetype": "text/x-python",
   "name": "python",
   "nbconvert_exporter": "python",
   "pygments_lexer": "ipython3",
   "version": "3.7.6"
  }
 },
 "nbformat": 4,
 "nbformat_minor": 4
}
