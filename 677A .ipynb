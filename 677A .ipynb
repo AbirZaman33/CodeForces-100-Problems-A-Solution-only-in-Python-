{
 "cells": [
  {
   "cell_type": "code",
   "execution_count": null,
   "metadata": {},
   "outputs": [],
   "source": []
  },
  {
   "cell_type": "code",
   "execution_count": 7,
   "metadata": {},
   "outputs": [
    {
     "name": "stdout",
     "output_type": "stream",
     "text": [
      "3 4\n",
      "4 3 7\n",
      "4\n"
     ]
    }
   ],
   "source": [
    "n,h=map(int,input().split())\n",
    "list_of_inputs=list(map(int,input().split()))\n",
    "summation =0\n",
    "\n",
    "for i in range(n):\n",
    "    if list_of_inputs[i]>h :\n",
    "        summation=summation+1\n",
    "        \n",
    "    summation=summation+1\n",
    "    \n",
    "print(summation)"
   ]
  }
 ],
 "metadata": {
  "kernelspec": {
   "display_name": "Python 3",
   "language": "python",
   "name": "python3"
  },
  "language_info": {
   "codemirror_mode": {
    "name": "ipython",
    "version": 3
   },
   "file_extension": ".py",
   "mimetype": "text/x-python",
   "name": "python",
   "nbconvert_exporter": "python",
   "pygments_lexer": "ipython3",
   "version": "3.7.6"
  }
 },
 "nbformat": 4,
 "nbformat_minor": 4
}
